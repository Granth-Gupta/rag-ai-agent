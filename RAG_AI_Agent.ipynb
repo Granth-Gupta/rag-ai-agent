{
 "cells": [
  {
   "metadata": {},
   "cell_type": "markdown",
   "source": "## Environment Configuration",
   "id": "24f7b7a7c091bd34"
  },
  {
   "metadata": {
    "ExecuteTime": {
     "end_time": "2025-07-19T12:49:44.517423Z",
     "start_time": "2025-07-19T12:49:44.510367Z"
    }
   },
   "cell_type": "code",
   "source": [
    "from dotenv import load_dotenv\n",
    "import os\n",
    "from typing import Annotated\n",
    "from typing_extensions import TypedDict, NotRequired\n",
    "from langgraph.graph import StateGraph, START, END\n",
    "from langgraph.graph.message import add_messages\n",
    "from langchain_core.tools import tool\n",
    "from langgraph.prebuilt import ToolNode, tools_condition\n",
    "from langgraph.checkpoint.memory import MemorySaver\n",
    "from langchain.chat_models import init_chat_model\n",
    "from langchain_core.messages import HumanMessage, AIMessage\n",
    "import os\n",
    "\n",
    "from langchain_community.document_loaders import WebBaseLoader, PyPDFLoader\n",
    "from langchain_text_splitters import RecursiveCharacterTextSplitter\n",
    "from sentence_transformers import SentenceTransformer\n",
    "import chromadb\n",
    "\n",
    "# Load environment variables\n",
    "load_dotenv()"
   ],
   "id": "ade1b75610f77127",
   "outputs": [
    {
     "data": {
      "text/plain": [
       "True"
      ]
     },
     "execution_count": 101,
     "metadata": {},
     "output_type": "execute_result"
    }
   ],
   "execution_count": 101
  },
  {
   "metadata": {},
   "cell_type": "markdown",
   "source": "## Creating the Semantic Database",
   "id": "46929e26c00dc282"
  },
  {
   "metadata": {},
   "cell_type": "markdown",
   "source": "1. Document Processing and Embedding",
   "id": "3383bfec6162d00b"
  },
  {
   "metadata": {
    "ExecuteTime": {
     "end_time": "2025-07-19T12:49:51.093824Z",
     "start_time": "2025-07-19T12:49:46.371382Z"
    }
   },
   "cell_type": "code",
   "source": [
    "# Initialize embedding model\n",
    "embedding_model = SentenceTransformer('all-MiniLM-L6-v2')\n",
    "\n",
    "# Document processing\n",
    "def process_documents(file_paths):\n",
    "    docs = []\n",
    "    for path in file_paths:\n",
    "        if path.endswith('.pdf'):\n",
    "            loader = PyPDFLoader(path)\n",
    "        else:\n",
    "            loader = WebBaseLoader(path)\n",
    "        docs.extend(loader.load())\n",
    "\n",
    "    # Split documents into chunks\n",
    "    text_splitter = RecursiveCharacterTextSplitter(\n",
    "        chunk_size=500,  # Increased for better context\n",
    "        chunk_overlap=100\n",
    "    )\n",
    "    doc_splits = text_splitter.split_documents(docs)\n",
    "    return doc_splits\n",
    "\n",
    "\n",
    "# file_paths = [\"document1.pdf\", \"document2.pdf\"]\n",
    "# documents = process_documents(file_paths)\n"
   ],
   "id": "1007854114208f38",
   "outputs": [],
   "execution_count": 102
  },
  {
   "metadata": {},
   "cell_type": "markdown",
   "source": "2. Vector Database Setup",
   "id": "ae979debed96b5ec"
  },
  {
   "metadata": {
    "ExecuteTime": {
     "end_time": "2025-07-19T12:50:19.307893Z",
     "start_time": "2025-07-19T12:49:51.108816Z"
    }
   },
   "cell_type": "code",
   "source": [
    "# Initialize ChromaDB for semantic search\n",
    "def setup_vector_database():\n",
    "    client = chromadb.PersistentClient(path=\"./chroma_db\")\n",
    "    collection = client.get_or_create_collection(\n",
    "        name=\"documents\",\n",
    "        metadata={\"hnsw:space\": \"cosine\"}\n",
    "    )\n",
    "    return collection\n",
    "\n",
    "# Add documents to vector database\n",
    "def index_documents(collection, documents):\n",
    "    print(f\"Indexing {len(documents)} document chunks...\")\n",
    "    for i, doc in enumerate(documents):\n",
    "        embedding = embedding_model.encode(doc.page_content)\n",
    "        collection.add(\n",
    "            embeddings=[embedding.tolist()],\n",
    "            documents=[doc.page_content],\n",
    "            metadatas=[doc.metadata],\n",
    "            ids=[f\"doc_{i}\"]\n",
    "        )\n",
    "    print(\"Document indexing completed!\")\n",
    "\n",
    "# Setup with 5 documents\n",
    "file_paths = [\"document1.pdf\", \"document2.pdf\", \"document3.pdf\", \"document4.pdf\", \"document5.pdf\"]\n",
    "documents = process_documents(file_paths)\n",
    "collection = setup_vector_database()\n",
    "index_documents(collection, documents)"
   ],
   "id": "31479bb76c8b3c6f",
   "outputs": [
    {
     "name": "stdout",
     "output_type": "stream",
     "text": [
      "Indexing 687 document chunks...\n",
      "Document indexing completed!\n"
     ]
    }
   ],
   "execution_count": 103
  },
  {
   "metadata": {},
   "cell_type": "markdown",
   "source": "## Building the RAG Agent with LangGraph",
   "id": "c2fb5144116beee8"
  },
  {
   "metadata": {
    "ExecuteTime": {
     "end_time": "2025-07-19T12:50:19.329917Z",
     "start_time": "2025-07-19T12:50:19.325920Z"
    }
   },
   "cell_type": "code",
   "source": [
    "class AgentState(TypedDict):\n",
    "    messages: Annotated[list, add_messages]\n",
    "    context: NotRequired[str]\n",
    "    query_type: NotRequired[str]\n"
   ],
   "id": "ef6cf7354a6fb76e",
   "outputs": [],
   "execution_count": 104
  },
  {
   "metadata": {
    "ExecuteTime": {
     "end_time": "2025-07-19T12:50:19.365563Z",
     "start_time": "2025-07-19T12:50:19.353071Z"
    }
   },
   "cell_type": "code",
   "source": [
    "# Tools for the agent\n",
    "@tool\n",
    "def semantic_search(query: str, k: int = 5) -> str:\n",
    "    \"\"\"Perform semantic search on the document collection.\"\"\"\n",
    "    query_embedding = embedding_model.encode(query)\n",
    "\n",
    "    results = collection.query(\n",
    "        query_embeddings=[query_embedding.tolist()],\n",
    "        n_results=k\n",
    "    )\n",
    "\n",
    "    # Format results with relevance scores\n",
    "    context = \"\\n\\n\".join([\n",
    "        f\"Source {i+1}: {doc}\"\n",
    "        for i, doc in enumerate(results['documents'][0])\n",
    "    ])\n",
    "\n",
    "    return context\n",
    "\n",
    "@tool\n",
    "def web_search(query: str) -> str:\n",
    "    \"\"\"Search the web for real-time information.\"\"\"\n",
    "    # Mock implementation - in practice, integrate with real web search API\n",
    "    return f\"Web search results for: {query}\\n[This would contain real-time web information]\"\n"
   ],
   "id": "2ed76ce94b536572",
   "outputs": [],
   "execution_count": 105
  },
  {
   "metadata": {
    "ExecuteTime": {
     "end_time": "2025-07-19T12:50:19.394438Z",
     "start_time": "2025-07-19T12:50:19.390722Z"
    }
   },
   "cell_type": "code",
   "source": [
    "# Initialize state with default values\n",
    "def create_initial_state(user_message: str) -> AgentState:\n",
    "    return {\n",
    "        \"messages\": [{\"role\": \"user\", \"content\": user_message}],\n",
    "        \"context\": \"\",\n",
    "        \"query_type\": \"semantic_search\"\n",
    "    }"
   ],
   "id": "687fcbaeb73b38cc",
   "outputs": [],
   "execution_count": 106
  },
  {
   "metadata": {
    "ExecuteTime": {
     "end_time": "2025-07-19T12:50:19.422438Z",
     "start_time": "2025-07-19T12:50:19.416445Z"
    }
   },
   "cell_type": "code",
   "source": [
    "# Updated workflow functions with safe state access\n",
    "def query_analyzer(state: AgentState) -> dict:\n",
    "    last_message = state[\"messages\"][-1].content\n",
    "    query_lower = last_message.lower()\n",
    "\n",
    "    if any(keyword in query_lower for keyword in [\"recent\", \"current\", \"latest\"]):\n",
    "        query_type = \"web_search\"\n",
    "    else:\n",
    "        query_type = \"semantic_search\"\n",
    "\n",
    "    return {\"query_type\": query_type}\n",
    "\n",
    "def retriever_node(state: AgentState) -> dict:\n",
    "    query = state[\"messages\"][-1].content\n",
    "    query_type = state.get(\"query_type\", \"semantic_search\")\n",
    "\n",
    "    if query_type == \"web_search\":\n",
    "        context = web_search.invoke({\"query\": query})\n",
    "    else:\n",
    "        context = semantic_search.invoke({\"query\": query})\n",
    "\n",
    "    return {\"context\": context}"
   ],
   "id": "884d103a036d76c0",
   "outputs": [],
   "execution_count": 107
  },
  {
   "metadata": {
    "ExecuteTime": {
     "end_time": "2025-07-19T12:50:19.444440Z",
     "start_time": "2025-07-19T12:50:19.439572Z"
    }
   },
   "cell_type": "code",
   "source": [
    "# Updated generator node with proper LLM integration\n",
    "def generator_node(state: AgentState) -> AgentState:\n",
    "    try:\n",
    "        llm = init_chat_model(\"google_genai:gemini-2.0-flash\")\n",
    "\n",
    "        query = state['messages'][-1].content\n",
    "        context = state.get('context', 'No relevant context found')\n",
    "\n",
    "        # Properly format the template with actual values\n",
    "        system_prompt = f\"\"\"You are a helpful AI assistant with access to a comprehensive knowledge base about AI agents, LangChain, vector databases, and related technologies.\n",
    "\n",
    "Use the provided context to give detailed, accurate answers. If the context doesn't contain relevant information, say so clearly.\n",
    "\n",
    "Context: {context}\n",
    "\n",
    "Question: {query}\n",
    "\n",
    "Please provide a comprehensive answer based on the context provided.\"\"\"\n",
    "\n",
    "        response = llm.invoke([HumanMessage(content=system_prompt)])\n",
    "        return {\"messages\": [AIMessage(content=response.content)]}\n",
    "\n",
    "    except Exception as e:\n",
    "        return generate_fallback_response(state)\n",
    "\n",
    "\n",
    "def setup_environment():\n",
    "    \"\"\"Setup environment variables for different LLM providers.\"\"\"\n",
    "    # For Google\n",
    "    if not os.getenv(\"GOOGLE_API_KEY\"):\n",
    "        print(\"Warning: GOOGLE_API_KEY not set. Set it for Google models.\")\n"
   ],
   "id": "4b82ef28d718e952",
   "outputs": [],
   "execution_count": 108
  },
  {
   "metadata": {
    "ExecuteTime": {
     "end_time": "2025-07-19T12:50:19.465886Z",
     "start_time": "2025-07-19T12:50:19.461314Z"
    }
   },
   "cell_type": "code",
   "source": [
    "def validate_state(state: AgentState) -> bool:\n",
    "    required_keys = [\"messages\"]\n",
    "    return all(key in state for key in required_keys)\n",
    "\n",
    "def safe_get_context(state: AgentState) -> str:\n",
    "    return state.get(\"context\", \"No context available\")\n",
    "\n",
    "def safe_get_query_type(state: AgentState) -> str:\n",
    "    return state.get(\"query_type\", \"semantic_search\")\n"
   ],
   "id": "34eb8a1b295af5f9",
   "outputs": [],
   "execution_count": 109
  },
  {
   "metadata": {
    "ExecuteTime": {
     "end_time": "2025-07-19T12:50:19.489993Z",
     "start_time": "2025-07-19T12:50:19.482122Z"
    }
   },
   "cell_type": "code",
   "source": [
    "# Build the RAG agent\n",
    "def build_rag_agent():\n",
    "    # Initialize memory\n",
    "    memory = MemorySaver()\n",
    "\n",
    "    # Create state graph\n",
    "    workflow = StateGraph(AgentState)\n",
    "\n",
    "    # Add nodes\n",
    "    workflow.add_node(\"analyzer\", query_analyzer)\n",
    "    workflow.add_node(\"retriever\", retriever_node)\n",
    "    workflow.add_node(\"generator\", generator_node)\n",
    "\n",
    "    # Define edges\n",
    "    workflow.add_edge(START, \"analyzer\")\n",
    "    workflow.add_edge(\"analyzer\", \"retriever\")\n",
    "    workflow.add_edge(\"retriever\", \"generator\")\n",
    "    workflow.add_edge(\"generator\", END)\n",
    "\n",
    "    # Compile with memory\n",
    "    agent = workflow.compile(checkpointer=memory)\n",
    "\n",
    "    return agent\n",
    "\n",
    "# Initialize the agent\n",
    "agent = build_rag_agent()"
   ],
   "id": "b5ddd8646a822af0",
   "outputs": [],
   "execution_count": 110
  },
  {
   "metadata": {
    "ExecuteTime": {
     "end_time": "2025-07-19T12:50:20.059178Z",
     "start_time": "2025-07-19T12:50:19.505932Z"
    }
   },
   "cell_type": "code",
   "source": [
    "from IPython.display import display, Image\n",
    "\n",
    "display(Image(agent.get_graph().draw_mermaid_png()))"
   ],
   "id": "2b831d5565a95c34",
   "outputs": [
    {
     "data": {
      "image/png": "[encoded data removed]",
      "text/plain": [
       "<IPython.core.display.Image object>"
      ]
     },
     "metadata": {},
     "output_type": "display_data"
    }
   ],
   "execution_count": 111
  },
  {
   "metadata": {},
   "cell_type": "markdown",
   "source": "Testing Framework",
   "id": "40571ac277c159a"
  },
  {
   "metadata": {
    "ExecuteTime": {
     "end_time": "2025-07-19T12:51:25.390050Z",
     "start_time": "2025-07-19T12:51:07.583230Z"
    }
   },
   "cell_type": "code",
   "source": [
    "def enhanced_test_suite():\n",
    "    \"\"\"Run enhanced tests with proper response validation.\"\"\"\n",
    "\n",
    "    # Setup environment\n",
    "    setup_environment()\n",
    "\n",
    "    # Test configuration\n",
    "    config = {\"configurable\": {\"thread_id\": \"enhanced_test_session\"}}\n",
    "\n",
    "    # Enhanced test queries\n",
    "    test_queries = [\n",
    "        {\n",
    "            \"query\": \"What are the core features of AI agents and how do they achieve autonomy?\",\n",
    "            \"expected_topics\": [\"autonomous\", \"goal-oriented\", \"reasoning\", \"planning\", \"memory\"],\n",
    "            \"min_length\": 200\n",
    "        },\n",
    "        {\n",
    "            \"query\": \"Explain how LangChain chains work and their integration capabilities\",\n",
    "            \"expected_topics\": [\"chains\", \"prompts\", \"integration\", \"workflows\", \"tools\"],\n",
    "            \"min_length\": 200\n",
    "        },\n",
    "        {\n",
    "            \"query\": \"Describe the architecture and similarity search in vector databases\",\n",
    "            \"expected_topics\": [\"embeddings\", \"similarity\", \"indexing\", \"HNSW\", \"retrieval\"],\n",
    "            \"min_length\": 200\n",
    "        },\n",
    "        {\n",
    "            \"query\": \"What is RAG and how does it enhance language model responses?\",\n",
    "            \"expected_topics\": [\"retrieval\", \"generation\", \"augmented\", \"context\", \"documents\"],\n",
    "            \"min_length\": 200\n",
    "        },\n",
    "        {\n",
    "            \"query\": \"What are advanced prompt engineering strategies for better LLM performance?\",\n",
    "            \"expected_topics\": [\"chain-of-thought\", \"few-shot\", \"optimization\", \"templates\", \"evaluation\"],\n",
    "            \"min_length\": 200\n",
    "        }\n",
    "    ]\n",
    "\n",
    "    results = []\n",
    "\n",
    "    for i, test_case in enumerate(test_queries, 1):\n",
    "        print(f\"\\n{'='*70}\")\n",
    "        print(f\"ENHANCED TEST {i}: {test_case['query']}\")\n",
    "        print(f\"{'='*70}\")\n",
    "\n",
    "        try:\n",
    "            # Execute query\n",
    "            response = agent.invoke(\n",
    "                {\"messages\": [{\"role\": \"user\", \"content\": test_case['query']}]},\n",
    "                config=config\n",
    "            )\n",
    "\n",
    "            # Extract response content\n",
    "            response_content = response['messages'][-1].content\n",
    "\n",
    "            # Enhanced validation\n",
    "            found_topics = []\n",
    "            for topic in test_case['expected_topics']:\n",
    "                if topic.lower() in response_content.lower():\n",
    "                    found_topics.append(topic)\n",
    "\n",
    "            relevance_score = len(found_topics) / len(test_case['expected_topics'])\n",
    "            length_check = len(response_content) >= test_case['min_length']\n",
    "\n",
    "            # Display results\n",
    "            print(f\"\\nQUERY: {test_case['query']}\")\n",
    "            print(f\"\\nRESPONSE:\\n{response_content[:300]}...\")\n",
    "            print(f\"\\nVALIDATION:\")\n",
    "            print(f\"Expected topics: {test_case['expected_topics']}\")\n",
    "            print(f\"Found topics: {found_topics}\")\n",
    "            print(f\"Relevance score: {relevance_score:.2%}\")\n",
    "            print(f\"Response length: {len(response_content)} chars (min: {test_case['min_length']})\")\n",
    "            print(f\"Length check: {'✅ PASS' if length_check else '❌ FAIL'}\")\n",
    "\n",
    "            # Overall assessment\n",
    "            overall_pass = relevance_score >= 0.6 and length_check\n",
    "            print(f\"Overall: {'✅ PASS' if overall_pass else '❌ FAIL'}\")\n",
    "\n",
    "            results.append({\n",
    "                \"query\": test_case['query'],\n",
    "                \"response_length\": len(response_content),\n",
    "                \"relevance_score\": relevance_score,\n",
    "                \"length_check\": length_check,\n",
    "                \"overall_pass\": overall_pass,\n",
    "                \"status\": \"SUCCESS\"\n",
    "            })\n",
    "\n",
    "        except Exception as e:\n",
    "            print(f\"ERROR: {str(e)}\")\n",
    "            results.append({\n",
    "                \"query\": test_case['query'],\n",
    "                \"error\": str(e),\n",
    "                \"status\": \"FAILED\"\n",
    "            })\n",
    "\n",
    "    # Enhanced summary report\n",
    "    print(f\"\\n{'='*70}\")\n",
    "    print(\"ENHANCED TEST SUMMARY REPORT\")\n",
    "    print(f\"{'='*70}\")\n",
    "\n",
    "    successful_tests = [r for r in results if r['status'] == 'SUCCESS']\n",
    "    failed_tests = [r for r in results if r['status'] == 'FAILED']\n",
    "    passed_tests = [r for r in successful_tests if r.get('overall_pass', False)]\n",
    "\n",
    "    print(f\"Total tests: {len(results)}\")\n",
    "    print(f\"Successful executions: {len(successful_tests)}\")\n",
    "    print(f\"Failed executions: {len(failed_tests)}\")\n",
    "    print(f\"Overall passed: {len(passed_tests)}\")\n",
    "    print(f\"Pass rate: {len(passed_tests)/len(results)*100:.1f}%\")\n",
    "\n",
    "    if successful_tests:\n",
    "        avg_relevance = sum(r['relevance_score'] for r in successful_tests) / len(successful_tests)\n",
    "        avg_response_length = sum(r['response_length'] for r in successful_tests) / len(successful_tests)\n",
    "\n",
    "        print(f\"Average relevance score: {avg_relevance:.2%}\")\n",
    "        print(f\"Average response length: {avg_response_length:.0f} characters\")\n",
    "\n",
    "    return results\n",
    "\n",
    "# Initialize the enhanced agent\n",
    "setup_environment()\n",
    "enhanced_results = enhanced_test_suite()"
   ],
   "id": "f53784001a63c5a1",
   "outputs": [
    {
     "name": "stdout",
     "output_type": "stream",
     "text": [
      "\n",
      "======================================================================\n",
      "ENHANCED TEST 1: What are the core features of AI agents and how do they achieve autonomy?\n",
      "======================================================================\n",
      "\n",
      "QUERY: What are the core features of AI agents and how do they achieve autonomy?\n",
      "\n",
      "RESPONSE:\n",
      "Based on the provided context, here's a breakdown of the core features of AI agents and how they achieve autonomy:\n",
      "\n",
      "**Core Features of AI Agents:**\n",
      "\n",
      "*   **Autonomy:** AI agents possess a high degree of autonomy, enabling them to operate and make decisions independently to achieve a goal (Source 1).\n",
      "...\n",
      "\n",
      "VALIDATION:\n",
      "Expected topics: ['autonomous', 'goal-oriented', 'reasoning', 'planning', 'memory']\n",
      "Found topics: ['goal-oriented', 'reasoning', 'planning', 'memory']\n",
      "Relevance score: 80.00%\n",
      "Response length: 1678 chars (min: 200)\n",
      "Length check: ✅ PASS\n",
      "Overall: ✅ PASS\n",
      "\n",
      "======================================================================\n",
      "ENHANCED TEST 2: Explain how LangChain chains work and their integration capabilities\n",
      "======================================================================\n",
      "\n",
      "QUERY: Explain how LangChain chains work and their integration capabilities\n",
      "\n",
      "RESPONSE:\n",
      "LangChain facilitates the creation of structured workflows by connecting multiple Language Model (LLM) components using modular building blocks like chains, agents, and memory. These chains enable the integration of LLMs with external tools, APIs, and data sources, which allows for the development o...\n",
      "\n",
      "VALIDATION:\n",
      "Expected topics: ['chains', 'prompts', 'integration', 'workflows', 'tools']\n",
      "Found topics: ['chains', 'integration', 'workflows', 'tools']\n",
      "Relevance score: 80.00%\n",
      "Response length: 867 chars (min: 200)\n",
      "Length check: ✅ PASS\n",
      "Overall: ✅ PASS\n",
      "\n",
      "======================================================================\n",
      "ENHANCED TEST 3: Describe the architecture and similarity search in vector databases\n",
      "======================================================================\n",
      "\n",
      "QUERY: Describe the architecture and similarity search in vector databases\n",
      "\n",
      "RESPONSE:\n",
      "Here's a breakdown of the architecture and similarity search in vector databases, based on the provided context:\n",
      "\n",
      "**Architecture:**\n",
      "\n",
      "*   **Vector Space Model:** Vector databases use the vector space model to store data. This means data is represented as vectors (fixed-length lists of numbers) in a h...\n",
      "\n",
      "VALIDATION:\n",
      "Expected topics: ['embeddings', 'similarity', 'indexing', 'HNSW', 'retrieval']\n",
      "Found topics: ['embeddings', 'similarity']\n",
      "Relevance score: 40.00%\n",
      "Response length: 1751 chars (min: 200)\n",
      "Length check: ✅ PASS\n",
      "Overall: ❌ FAIL\n",
      "\n",
      "======================================================================\n",
      "ENHANCED TEST 4: What is RAG and how does it enhance language model responses?\n",
      "======================================================================\n",
      "\n",
      "QUERY: What is RAG and how does it enhance language model responses?\n",
      "\n",
      "RESPONSE:\n",
      "RAG, or Retrieval-Augmented Generation, is a technique that enhances large language models (LLMs) by incorporating information retrieval into the response generation process. Instead of relying solely on static training data, RAG pulls relevant information from external sources like databases, uploa...\n",
      "\n",
      "VALIDATION:\n",
      "Expected topics: ['retrieval', 'generation', 'augmented', 'context', 'documents']\n",
      "Found topics: ['retrieval', 'generation', 'augmented', 'context', 'documents']\n",
      "Relevance score: 100.00%\n",
      "Response length: 1438 chars (min: 200)\n",
      "Length check: ✅ PASS\n",
      "Overall: ✅ PASS\n",
      "\n",
      "======================================================================\n",
      "ENHANCED TEST 5: What are advanced prompt engineering strategies for better LLM performance?\n",
      "======================================================================\n",
      "\n",
      "QUERY: What are advanced prompt engineering strategies for better LLM performance?\n",
      "\n",
      "RESPONSE:\n",
      "Based on the provided context, here's what I can tell you about advanced prompt engineering strategies for better LLM performance:\n",
      "\n",
      "*   **General Definition:** Prompt engineering is a discipline focused on developing and optimizing prompts to efficiently use language models (LLMs) for various applic...\n",
      "\n",
      "VALIDATION:\n",
      "Expected topics: ['chain-of-thought', 'few-shot', 'optimization', 'templates', 'evaluation']\n",
      "Found topics: []\n",
      "Relevance score: 0.00%\n",
      "Response length: 1100 chars (min: 200)\n",
      "Length check: ✅ PASS\n",
      "Overall: ❌ FAIL\n",
      "\n",
      "======================================================================\n",
      "ENHANCED TEST SUMMARY REPORT\n",
      "======================================================================\n",
      "Total tests: 5\n",
      "Successful executions: 5\n",
      "Failed executions: 0\n",
      "Overall passed: 3\n",
      "Pass rate: 60.0%\n",
      "Average relevance score: 60.00%\n",
      "Average response length: 1367 characters\n"
     ]
    }
   ],
   "execution_count": 113
  },
  {
   "metadata": {},
   "cell_type": "code",
   "outputs": [],
   "execution_count": null,
   "source": "",
   "id": "7c4ffc3b5faac089"
  },
  {
   "metadata": {},
   "cell_type": "markdown",
   "source": "aaaaa## Advanced Features",
   "id": "7247ac7725fc3d19"
  },
  {
   "metadata": {},
   "cell_type": "markdown",
   "source": "1. Multi-Modal RAG Support",
   "id": "178c63ce612b476a"
  },
  {
   "metadata": {
    "ExecuteTime": {
     "end_time": "2025-07-18T14:43:52.424501Z",
     "start_time": "2025-07-18T14:43:52.414710Z"
    }
   },
   "cell_type": "code",
   "source": [
    "@tool\n",
    "def image_analyzer(image_path: str) -> str:\n",
    "    \"\"\"Analyze images and extract text/information.\"\"\"\n",
    "    # Implement image processing logic\n",
    "    return f\"Image analysis results for: {image_path}\"\n",
    "\n",
    "@tool\n",
    "def document_qa(question: str, doc_type: str = \"pdf\") -> str:\n",
    "    \"\"\"Answer questions about specific document types.\"\"\"\n",
    "    # Implement document-specific QA\n",
    "    return f\"Document QA response for: {question}\"\n"
   ],
   "id": "39b1c3810b554c53",
   "outputs": [],
   "execution_count": 12
  },
  {
   "metadata": {},
   "cell_type": "markdown",
   "source": " Contextual Memory Integration",
   "id": "73e52eb7da137367"
  },
  {
   "metadata": {
    "ExecuteTime": {
     "end_time": "2025-07-18T14:44:12.180691Z",
     "start_time": "2025-07-18T14:44:12.176782Z"
    }
   },
   "cell_type": "code",
   "source": [
    "class MemoryEnhancedState(TypedDict):\n",
    "    messages: Annotated[list, add_messages]\n",
    "    context: str\n",
    "    query_type: str\n",
    "    conversation_history: list\n",
    "    user_preferences: dict\n",
    "\n",
    "def memory_enhanced_generator(state: MemoryEnhancedState) -> MemoryEnhancedState:\n",
    "    \"\"\"Generate responses with conversation memory.\"\"\"\n",
    "    # Access previous conversations\n",
    "    history = state.get(\"conversation_history\", [])\n",
    "    preferences = state.get(\"user_preferences\", {})\n",
    "\n",
    "    # Generate contextualized response\n",
    "    # Implementation details...\n"
   ],
   "id": "1c9674c8362958f9",
   "outputs": [],
   "execution_count": 13
  },
  {
   "metadata": {},
   "cell_type": "markdown",
   "source": "3. Semantic Caching for Performance",
   "id": "6ed6355aef06bb58"
  },
  {
   "metadata": {
    "ExecuteTime": {
     "end_time": "2025-07-18T14:44:30.334852Z",
     "start_time": "2025-07-18T14:44:30.328448Z"
    }
   },
   "cell_type": "code",
   "source": [
    "import hashlib\n",
    "from functools import lru_cache\n",
    "\n",
    "class SemanticCache:\n",
    "    def __init__(self, similarity_threshold=0.8):\n",
    "        self.cache = {}\n",
    "        self.similarity_threshold = similarity_threshold\n",
    "\n",
    "    def get_cached_response(self, query: str):\n",
    "        query_embedding = embedding_model.encode(query)\n",
    "\n",
    "        # Check for similar queries in cache\n",
    "        for cached_query, (cached_embedding, response) in self.cache.items():\n",
    "            similarity = cosine_similarity([query_embedding], [cached_embedding])[0][0]\n",
    "            if similarity > self.similarity_threshold:\n",
    "                return response\n",
    "\n",
    "        return None\n",
    "\n",
    "    def cache_response(self, query: str, response: str):\n",
    "        query_embedding = embedding_model.encode(query)\n",
    "        self.cache[query] = (query_embedding, response)\n"
   ],
   "id": "f12c6373e03171b6",
   "outputs": [],
   "execution_count": 14
  },
  {
   "metadata": {},
   "cell_type": "markdown",
   "source": "# Deployment and Testing",
   "id": "938031a9c1cdac35"
  },
  {
   "metadata": {},
   "cell_type": "markdown",
   "source": "1. Testing the RAG System",
   "id": "92cc6314ebc03868"
  },
  {
   "metadata": {
    "ExecuteTime": {
     "end_time": "2025-07-18T14:45:05.230891Z",
     "start_time": "2025-07-18T14:45:05.225800Z"
    }
   },
   "cell_type": "code",
   "source": [
    "def test_rag_agent():\n",
    "    # Initialize agent\n",
    "    agent = build_rag_agent()\n",
    "\n",
    "    # Test queries\n",
    "    test_queries = [\n",
    "        \"What is the main topic of the documents?\",\n",
    "        \"Can you summarize the key findings?\",\n",
    "        \"How does this relate to current trends?\"\n",
    "    ]\n",
    "\n",
    "    for query in test_queries:\n",
    "        config = {\"configurable\": {\"thread_id\": \"test_session\"}}\n",
    "\n",
    "        response = agent.invoke(\n",
    "            {\"messages\": [{\"role\": \"user\", \"content\": query}]},\n",
    "            config=config\n",
    "        )\n",
    "\n",
    "        print(f\"Query: {query}\")\n",
    "        print(f\"Response: {response['messages'][-1].content}\")\n",
    "        print(\"-\" * 50)\n"
   ],
   "id": "c729a45d8d93ffaf",
   "outputs": [],
   "execution_count": 15
  },
  {
   "metadata": {},
   "cell_type": "markdown",
   "source": "2. Performance Optimization",
   "id": "31339bad39bf47c"
  },
  {
   "metadata": {
    "ExecuteTime": {
     "end_time": "2025-07-18T14:45:23.927704Z",
     "start_time": "2025-07-18T14:45:23.924320Z"
    }
   },
   "cell_type": "code",
   "source": [
    "# Implement query routing for better performance\n",
    "def route_query(query: str) -> str:\n",
    "    \"\"\"Route queries to appropriate processing pipelines.\"\"\"\n",
    "    query_lower = query.lower()\n",
    "\n",
    "    if any(keyword in query_lower for keyword in [\"calculate\", \"compute\", \"math\"]):\n",
    "        return \"computational\"\n",
    "    elif any(keyword in query_lower for keyword in [\"recent\", \"latest\", \"current\"]):\n",
    "        return \"web_search\"\n",
    "    else:\n",
    "        return \"semantic_search\"\n"
   ],
   "id": "671b9d4ba4b47b4b",
   "outputs": [],
   "execution_count": 16
  },
  {
   "metadata": {},
   "cell_type": "code",
   "outputs": [],
   "execution_count": null,
   "source": "",
   "id": "80f2959055e8c714"
  }
 ],
 "metadata": {
  "kernelspec": {
   "display_name": "Python 3",
   "language": "python",
   "name": "python3"
  },
  "language_info": {
   "codemirror_mode": {
    "name": "ipython",
    "version": 2
   },
   "file_extension": ".py",
   "mimetype": "text/x-python",
   "name": "python",
   "nbconvert_exporter": "python",
   "pygments_lexer": "ipython2",
   "version": "2.7.6"
  }
 },
 "nbformat": 4,
 "nbformat_minor": 5
}
